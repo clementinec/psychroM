{
 "cells": [
  {
   "cell_type": "code",
   "execution_count": 2,
   "metadata": {},
   "outputs": [],
   "source": [
    "from cp.chart import gen_points_in_constant_relative_humidity,GetStandardAtmPressure\n",
    "from cp import PsychroChart, load_config"
   ]
  },
  {
   "cell_type": "code",
   "execution_count": 1,
   "metadata": {},
   "outputs": [
    {
     "ename": "IndentationError",
     "evalue": "unindent does not match any outer indentation level (cust.py, line 155)",
     "output_type": "error",
     "traceback": [
      "Traceback \u001b[0;36m(most recent call last)\u001b[0m:\n",
      "  File \u001b[1;32m\"/anaconda2/envs/p36workshop/lib/python3.7/site-packages/IPython/core/interactiveshell.py\"\u001b[0m, line \u001b[1;32m3326\u001b[0m, in \u001b[1;35mrun_code\u001b[0m\n    exec(code_obj, self.user_global_ns, self.user_ns)\n",
      "\u001b[0;36m  File \u001b[0;32m\"<ipython-input-1-137ab4123c5c>\"\u001b[0;36m, line \u001b[0;32m1\u001b[0;36m, in \u001b[0;35m<module>\u001b[0;36m\u001b[0m\n\u001b[0;31m    import cust as ct\u001b[0m\n",
      "\u001b[0;36m  File \u001b[0;32m\"/Users/woohaa/repos/psychroM/psychoM/cust.py\"\u001b[0;36m, line \u001b[0;32m155\u001b[0m\n\u001b[0;31m    points=construct(a,b,c)\u001b[0m\n\u001b[0m                           ^\u001b[0m\n\u001b[0;31mIndentationError\u001b[0m\u001b[0;31m:\u001b[0m unindent does not match any outer indentation level\n"
     ]
    }
   ],
   "source": [
    "import cust as ct"
   ]
  },
  {
   "cell_type": "code",
   "execution_count": 6,
   "metadata": {},
   "outputs": [],
   "source": [
    "def custstyle(figsize=[6,6],fontsize=6):\n",
    "    custom_style = {\n",
    "    \"figure\": {\n",
    "        \"figsize\": figsize,\n",
    "        \"base_fontsize\": fontsize,\n",
    "        \"title\": \"\",\n",
    "#         \"x_label\": None,\n",
    "#         \"y_label\": None,\n",
    "        \"partial_axis\": False,\n",
    "        \"x_axis\": {\"color\": [0.0, 0.0, 0.0], \"linewidth\": 1.5, \"linestyle\": \"-\"},\n",
    "        \"x_axis_labels\": {\"color\": [0.0, 0.0, 0.0], \"fontsize\": 6},\n",
    "        \"x_axis_ticks\": {\"direction\": \"out\", \"color\": [0.0, 0.0, 0.0]},\n",
    "        \"y_axis\": {\"color\": [0.0, 0.0, 0.0], \"linewidth\": 1.5, \"linestyle\": \"-\"},\n",
    "        \"y_axis_labels\": {\"color\": [0.0, 0.0, 0.0], \"fontsize\": 6},\n",
    "        \"y_axis_ticks\": {\"direction\": \"out\", \"color\": [0.0, 0.0, 0.0]},\n",
    "    },\n",
    "    \"limits\": {\n",
    "        \"range_temp_c\": [10, 50],\n",
    "        \"range_humidity_g_kg\": [0, 25],\n",
    "        \"altitude_m\": 900,\n",
    "        \"step_temp\": .5\n",
    "    },\n",
    "    \"saturation\": {\"color\": [0, 0, 0], \"linewidth\": 1}, #Saturation line\n",
    "    \"constant_rh\": {\"color\": [0.0, 0.498, 1.0, .7], \"linewidth\": 2.5,\n",
    "                    \"linestyle\": \":\"},\n",
    "    \"chart_params\": {\n",
    "        \"with_constant_rh\": True,\n",
    "        \"constant_rh_curves\": [10, 25, 50, 75],\n",
    "        \"constant_rh_labels\": [25, 50, 75],\n",
    "        \n",
    "        \"range_vol_m3_kg\": [0.9, 1.],\n",
    "        \"constant_v_labels\": [0.9, 0.94, 0.98],\n",
    "        \"with_constant_v\": False,\n",
    "        \"with_constant_wet_temp\": False,\n",
    "        \"with_constant_dry_temp\": False,\n",
    "        \"with_constant_humidity\": False,\n",
    "        \n",
    "        \"with_constant_h\": False,\n",
    "        \"with_constant_wet_temp\": False,\n",
    "        \"with_zones\": False\n",
    "    }\n",
    "}\n",
    "    return custom_style"
   ]
  },
  {
   "cell_type": "code",
   "execution_count": 7,
   "metadata": {},
   "outputs": [],
   "source": [
    "def plotarrow(chartobj,pointa,pointb,altitude=900):\n",
    "    a = pointa[0],gen_points_in_constant_relative_humidity(pointa[0],pointa[1],GetStandardAtmPressure(altitude))\n",
    "    b = pointb[0],gen_points_in_constant_relative_humidity(pointb[0],pointb[1],GetStandardAtmPressure(altitude))\n",
    "    return chartobj._axes.annotate(\"\",a,xytext=b,arrowprops=dict(arrowstyle='->'))"
   ]
  },
  {
   "cell_type": "code",
   "execution_count": 51,
   "metadata": {},
   "outputs": [],
   "source": [
    "adju_style = {\n",
    "    \"figure\": {\n",
    "        \"figsize\": [5, 5],\n",
    "        \"base_fontsize\": 8,\n",
    "        \"title\": \"\",\n",
    "#         \"x_label\": None,\n",
    "#         \"y_label\": None,\n",
    "        \"partial_axis\": False,\n",
    "        \"x_axis\": {\"color\": [0.0, 0.0, 0.0], \"linewidth\": 1.5, \"linestyle\": \"-\"},\n",
    "        \"x_axis_labels\": {\"color\": [0.0, 0.0, 0.0], \"fontsize\": 6},\n",
    "        \"x_axis_ticks\": {\"direction\": \"out\", \"color\": [0.0, 0.0, 0.0]},\n",
    "        \"y_axis\": {\"color\": [0.0, 0.0, 0.0], \"linewidth\": 1.5, \"linestyle\": \"-\"},\n",
    "        \"y_axis_labels\": {\"color\": [0.0, 0.0, 0.0], \"fontsize\": 6},\n",
    "        \"y_axis_ticks\": {\"direction\": \"out\", \"color\": [0.0, 0.0, 0.0]},\n",
    "    },\n",
    "    \"limits\": {\n",
    "        \"range_temp_c\": [10, 50],\n",
    "        \"range_humidity_g_kg\": [0, 25],\n",
    "        \"altitude_m\": 900,\n",
    "        \"step_temp\": .5\n",
    "    },\n",
    "    \"saturation\": {\"color\": [0, 0, 0], \"linewidth\": 1}, #Saturation line\n",
    "    \"constant_rh\": {\"color\": [0.0, 0.498, 1.0, .7], \"linewidth\": 2.5,\n",
    "                    \"linestyle\": \":\"},\n",
    "    \"constant_h\": {\"color\":[0,0.1,0.2,0.35], \"linewidth\": 1.5, \"linestyle\":\":\"},\n",
    "    \"chart_params\": {\n",
    "        \"with_constant_rh\": True,\n",
    "        \"constant_rh_curves\": [10, 25, 50, 75],\n",
    "        \"constant_rh_labels\": [10, 25, 50, 75],\n",
    "        \n",
    "        \"range_vol_m3_kg\": [0.9, 1.],\n",
    "        \"constant_v_labels\": [0.9, 0.94, 0.98],\n",
    "        \"with_constant_v\": False,\n",
    "        \"with_constant_wet_temp\": False,\n",
    "        \"with_constant_dry_temp\": True,\n",
    "        \"with_constant_humidity\": True,\n",
    "        \n",
    "        \"with_constant_h\": False,\n",
    "        \"with_constant_wet_temp\": False,\n",
    "        \"with_zones\": False\n",
    "    }\n",
    "}"
   ]
  },
  {
   "cell_type": "code",
   "execution_count": 9,
   "metadata": {},
   "outputs": [],
   "source": [
    "A = (31.06, 10.)\n",
    "B = (29.42, 50.)\n",
    "C = (20.47, 25.)"
   ]
  },
  {
   "cell_type": "code",
   "execution_count": 32,
   "metadata": {},
   "outputs": [],
   "source": [
    "def construct(a = A,b = B,c = C):\n",
    "    pts = {\n",
    "        'exterior': {\n",
    "            'label': 'Exterior',\n",
    "            'style': {'color': [0.855, 0.004, 0.278, 0.8],'marker': 'X', 'markersize': 15},\n",
    "            'xy': (a[0],a[1])\n",
    "            },\n",
    "        'exterior_estimated': {\n",
    "            'label': 'Estimated (Weather service)',\n",
    "            'style': {'color': [0.573, 0.106, 0.318, 0.5],'marker': 'x', 'markersize': 10},\n",
    "            'xy': (b[0],b[1])\n",
    "            },\n",
    "        'interior': {\n",
    "            'label': 'Interior',\n",
    "            'style': {'color': [0.592, 0.745, 0.051, 0.9],'marker': 'o', 'markersize': 30},\n",
    "            'xy': (c[0], c[1])\n",
    "            }\n",
    "        }\n",
    "\n",
    "    # points = {'exterior': {'label': 'Exterior',\n",
    "    #                    'style': {'color': [0.855, 0.004, 0.278, 0.8],\n",
    "    #                              'marker': 'X', 'markersize': 15},\n",
    "    #                    'xy': (31.06, 32.9)},\n",
    "    #       'exterior_estimated': {\n",
    "    #           'label': 'Estimated (Weather service)',\n",
    "    #           'style': {'color': [0.573, 0.106, 0.318, 0.5],\n",
    "    #                     'marker': 'x', 'markersize': 10},\n",
    "    #           'xy': (36.7, 25.0)},\n",
    "    #       'interior': {'label': 'Interior',\n",
    "    #                    'style': {'color': [0.592, 0.745, 0.051, 0.9],\n",
    "    #                              'marker': 'o', 'markersize': 30},\n",
    "    #                    'xy': (29.42, 52.34)}}\n",
    "    return pts"
   ]
  },
  {
   "cell_type": "code",
   "execution_count": 33,
   "metadata": {},
   "outputs": [
    {
     "data": {
      "text/plain": [
       "{'exterior': {'label': 'Exterior',\n",
       "  'style': {'color': [0.855, 0.004, 0.278, 0.8],\n",
       "   'marker': 'X',\n",
       "   'markersize': 15},\n",
       "  'xy': (30, 10.1)},\n",
       " 'exterior_estimated': {'label': 'Estimated (Weather service)',\n",
       "  'style': {'color': [0.573, 0.106, 0.318, 0.5],\n",
       "   'marker': 'x',\n",
       "   'markersize': 10},\n",
       "  'xy': (20.0, 15.0)},\n",
       " 'interior': {'label': 'Interior',\n",
       "  'style': {'color': [0.592, 0.745, 0.051, 0.9],\n",
       "   'marker': 'o',\n",
       "   'markersize': 30},\n",
       "  'xy': (25.0, 75.0)}}"
      ]
     },
     "execution_count": 33,
     "metadata": {},
     "output_type": "execute_result"
    }
   ],
   "source": [
    "construct(a=(30,10.1),b=(20.,15.),c=(25.,75.))"
   ]
  },
  {
   "cell_type": "code",
   "execution_count": 13,
   "metadata": {},
   "outputs": [],
   "source": [
    "def pointsarrow(chartobj,A,B):\n",
    "    a = (A[0],gen_points_in_constant_relative_humidity(A[0],A[1],GetStandardAtmPressure(900)))\n",
    "    b = (B[0],gen_points_in_constant_relative_humidity(B[0],B[1],GetStandardAtmPressure(900)))\n",
    "    return chartobj._axes.annotate(\"\",a,xytext=b,arrowprops=dict(arrowstyle='->'))"
   ]
  },
  {
   "cell_type": "code",
   "execution_count": 14,
   "metadata": {},
   "outputs": [],
   "source": [
    "def update(tar,a,b):\n",
    "    tar._handlers_annotations.append(pointsarrow(tar,a,b))"
   ]
  },
  {
   "cell_type": "code",
   "execution_count": 37,
   "metadata": {},
   "outputs": [],
   "source": [
    "def testchart3(a=A,b=B,c=C):\n",
    "    chart = PsychroChart(adju_style)\n",
    "    ax = chart.plot()\n",
    "    update(chart,a,b)\n",
    "    update(chart,b,c)\n",
    "    update(chart,c,a)\n",
    "    points=construct(a,b,c)\n",
    "    chart.plot_points_dbt_rh(points)\n",
    "#     ax.get_figure()\n",
    "    chart._fig.savefig('newchart.png',dpi=150)"
   ]
  },
  {
   "cell_type": "code",
   "execution_count": 38,
   "metadata": {},
   "outputs": [],
   "source": [
    "testchart3(a=(30.0,10.1),b=(20.,15.),c=(25.,75.))"
   ]
  },
  {
   "cell_type": "code",
   "execution_count": 49,
   "metadata": {},
   "outputs": [],
   "source": [
    "def testmix(a=A,b=B,c=C):\n",
    "    chart = PsychroChart(adju_style)\n",
    "    ax = chart.plot()\n",
    "    update(chart,a,b)\n",
    "    update(chart,c,b)\n",
    "#     update(chart,c,a)\n",
    "    points=construct(a,b,c)\n",
    "    chart.plot_points_dbt_rh(points)\n",
    "#     ax.get_figure()\n",
    "    chart._fig.savefig('newmix.png',dpi=150)"
   ]
  },
  {
   "cell_type": "code",
   "execution_count": 52,
   "metadata": {},
   "outputs": [],
   "source": [
    "testmix()"
   ]
  },
  {
   "cell_type": "code",
   "execution_count": null,
   "metadata": {},
   "outputs": [],
   "source": []
  }
 ],
 "metadata": {
  "kernelspec": {
   "display_name": "p36workshop",
   "language": "python",
   "name": "p36workshop"
  },
  "language_info": {
   "codemirror_mode": {
    "name": "ipython",
    "version": 3
   },
   "file_extension": ".py",
   "mimetype": "text/x-python",
   "name": "python",
   "nbconvert_exporter": "python",
   "pygments_lexer": "ipython3",
   "version": "3.7.4"
  }
 },
 "nbformat": 4,
 "nbformat_minor": 2
}
